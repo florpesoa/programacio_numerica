{
 "cells": [
  {
   "cell_type": "markdown",
   "id": "c2cef99e",
   "metadata": {},
   "source": [
    "# SPRINT 3\n"
   ]
  },
  {
   "cell_type": "markdown",
   "id": "4c249ad2",
   "metadata": {},
   "source": [
    "### EXERCICI 1"
   ]
  },
  {
   "cell_type": "markdown",
   "id": "f56f3227",
   "metadata": {},
   "source": [
    "**Crea una funció que donat un Array d’una dimensió, et faci un resum estadístic bàsic de les dades. Si detecta que l’array té més d’una dimensió, ha de mostrar un missatge d’error.**"
   ]
  },
  {
   "cell_type": "code",
   "execution_count": 37,
   "id": "35444407",
   "metadata": {},
   "outputs": [
    {
     "data": {
      "text/plain": [
       "array([ 0,  3,  6,  9, 12, 15, 18])"
      ]
     },
     "execution_count": 37,
     "metadata": {},
     "output_type": "execute_result"
    }
   ],
   "source": [
    "import numpy as np\n",
    "import pandas as pd\n",
    "\n",
    "array= np.arange(0,20,3)\n",
    "array\n"
   ]
  },
  {
   "cell_type": "code",
   "execution_count": 50,
   "id": "18f688f5",
   "metadata": {},
   "outputs": [
    {
     "name": "stdout",
     "output_type": "stream",
     "text": [
      "El array es de una dimensión                0\n",
      "count   7.000000\n",
      "mean    9.000000\n",
      "std     6.480741\n",
      "min     0.000000\n",
      "25%     4.500000\n",
      "50%     9.000000\n",
      "75%    13.500000\n",
      "max    18.000000\n"
     ]
    }
   ],
   "source": [
    "def func(array):\n",
    "    if array.ndim==1:\n",
    "        df=pd.DataFrame(array)\n",
    "        print('El array es de una dimensión', df.describe())\n",
    "    else:\n",
    "        print('ERROR el array no cumple condición')\n",
    "func(array)"
   ]
  },
  {
   "cell_type": "markdown",
   "id": "acef30a8",
   "metadata": {},
   "source": [
    "### Exercici 2"
   ]
  },
  {
   "cell_type": "markdown",
   "id": "0e9740ed",
   "metadata": {},
   "source": [
    "**Crea una funció que et generi un quadrat NxN de nombres aleatoris entre el 0 i el 100.**"
   ]
  },
  {
   "cell_type": "code",
   "execution_count": 40,
   "id": "c2805866",
   "metadata": {},
   "outputs": [
    {
     "name": "stdout",
     "output_type": "stream",
     "text": [
      "[[23, 12, 18, 28], [48, 21, 6, 85], [19, 44, 82, 14], [3, 15, 33, 47]]\n"
     ]
    }
   ],
   "source": [
    "from random import randint\n",
    "def nueva_matriz(n):\n",
    "    matriz = []\n",
    "    for r in range (n):\n",
    "        fila = []\n",
    "        \n",
    "        for c in range (n):\n",
    "            fila.append(randint(1, 100))\n",
    "        matriz.append(fila)\n",
    "        \n",
    "    return matriz\n",
    "\n",
    "resultado= nueva_matriz (4)\n",
    "\n",
    "print (resultado)\n",
    "\n",
    "# se generó una matriz 4 x 4"
   ]
  },
  {
   "cell_type": "markdown",
   "id": "1bc0a520",
   "metadata": {},
   "source": [
    "### Exercici 3 "
   ]
  },
  {
   "cell_type": "markdown",
   "id": "8ac5bf01",
   "metadata": {},
   "source": [
    "**Crea una funció que donada una taula de dues dimensions (NxM), et calculi els totals per fila i els totals per columna.**"
   ]
  },
  {
   "cell_type": "code",
   "execution_count": 42,
   "id": "8cd49bfe",
   "metadata": {},
   "outputs": [
    {
     "name": "stdout",
     "output_type": "stream",
     "text": [
      "La matriz es:  [[91, 91, 64], [62, 39, 61], [19, 73, 74], [19, 22, 83]]\n",
      "La suma de las filas es:  [246, 162, 166, 124]\n",
      "La suma de la columna es:  [191, 225, 282]\n"
     ]
    }
   ],
   "source": [
    "import random\n",
    "n = 4\n",
    "m = 3\n",
    "\n",
    "matriz = []\n",
    "for i in range(n):\n",
    "    matriz.append([]) #append para definir la matriz y asignarle sus valores\n",
    "    for j in range(m):\n",
    "        matriz[i].append(random.randint(0, 100))\n",
    "\n",
    "sumaFila=[sum(i) for i in matriz]\n",
    "sumaColumna=[sum(i) for i in zip(*matriz)]#toma 1 o 2 obj iterables y retorna uno nuevo\n",
    "\n",
    "\n",
    "print('La matriz es: ', matriz)\n",
    "print('La suma de las filas es: ', sumaFila)\n",
    "print('La suma de la columna es: ', sumaColumna)"
   ]
  },
  {
   "cell_type": "code",
   "execution_count": 43,
   "id": "829ea621",
   "metadata": {},
   "outputs": [
    {
     "data": {
      "text/plain": [
       "[[0, 1, 2, 3, 4, 5],\n",
       " [0, 1, 2, 3, 4, 5],\n",
       " [0, 1, 2, 3, 4, 5],\n",
       " [0, 1, 2, 3, 4, 5]]"
      ]
     },
     "execution_count": 43,
     "metadata": {},
     "output_type": "execute_result"
    }
   ],
   "source": [
    "#otra forma de crear matriz mxn\n",
    "a=[[i for i in range(6)]for j in range(4)]\n",
    "a"
   ]
  },
  {
   "cell_type": "code",
   "execution_count": 45,
   "id": "9cf914ec",
   "metadata": {},
   "outputs": [
    {
     "name": "stdout",
     "output_type": "stream",
     "text": [
      "[[ 0  1  2]\n",
      " [ 3  4  5]\n",
      " [ 6  7  8]\n",
      " [ 9 10 11]]\n",
      "La suma de columnas es:  [18 22 26]\n",
      "La suma de filas es:  [ 3 12 21 30]\n"
     ]
    }
   ],
   "source": [
    "#otra forma más sencilla de hacerlo con numpy\n",
    "import numpy as np\n",
    "a = np.arange(12).reshape(4,3)\n",
    "print(a)\n",
    "s = np.sum(a, axis=0)\n",
    "print(\"La suma de columnas es: \", s)\n",
    "s = np.sum(a, axis=1)\n",
    "print(\"La suma de filas es: \", s)\n"
   ]
  },
  {
   "cell_type": "markdown",
   "id": "0cb4a30c",
   "metadata": {},
   "source": [
    "### Exercici 4"
   ]
  },
  {
   "cell_type": "markdown",
   "id": "bee79ae0",
   "metadata": {},
   "source": [
    "**Implementa manualment una funció que calculi el coeficient de correlació. Informa-te'n sobre els seus usos i interpretació.**"
   ]
  },
  {
   "cell_type": "code",
   "execution_count": 46,
   "id": "4662bdb3",
   "metadata": {},
   "outputs": [
    {
     "data": {
      "text/plain": [
       "array([[1.        , 0.98639392],\n",
       "       [0.98639392, 1.        ]])"
      ]
     },
     "execution_count": 46,
     "metadata": {},
     "output_type": "execute_result"
    }
   ],
   "source": [
    "edad=[10, 12, 14, 16, 18]\n",
    "peso=[30, 40, 45, 50, 55]\n",
    "\n",
    "np.corrcoef (edad, peso)\n",
    "\n",
    "# hay una correlación lineal positiva, aumenta la edad aumenta el peso, \n",
    "#es mejor en el caso de la edad porque claramente los numeros son de 2 en 2"
   ]
  }
 ],
 "metadata": {
  "kernelspec": {
   "display_name": "Python 3 (ipykernel)",
   "language": "python",
   "name": "python3"
  },
  "language_info": {
   "codemirror_mode": {
    "name": "ipython",
    "version": 3
   },
   "file_extension": ".py",
   "mimetype": "text/x-python",
   "name": "python",
   "nbconvert_exporter": "python",
   "pygments_lexer": "ipython3",
   "version": "3.10.5"
  }
 },
 "nbformat": 4,
 "nbformat_minor": 5
}
